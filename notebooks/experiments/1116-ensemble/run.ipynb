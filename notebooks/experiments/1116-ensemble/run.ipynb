{
 "cells": [
  {
   "cell_type": "code",
   "execution_count": 43,
   "metadata": {},
   "outputs": [],
   "source": [
    "import numpy as np\n",
    "import pandas as pd\n",
    "import json\n",
    "from pathlib import Path\n",
    "from scipy.stats import kendalltau"
   ]
  },
  {
   "cell_type": "code",
   "execution_count": 2,
   "metadata": {},
   "outputs": [],
   "source": [
    "rootdir = Path().resolve()\n",
    "datadir = rootdir / \"final\"\n",
    "outdir = rootdir / \"out\"\n",
    "outdir.mkdir(exist_ok=True, parents=True)"
   ]
  },
  {
   "cell_type": "code",
   "execution_count": 46,
   "metadata": {},
   "outputs": [],
   "source": [
    "each_valid = {}\n",
    "datadir_ = datadir / \"each-valid\"\n",
    "for name in [\"nlp-default\", \"nlp-random\", \"xla-default\", \"xla-random\"]:\n",
    "    with open(datadir_ / f\"{name}.json\", \"r\") as f:\n",
    "        pred = json.load(f)\n",
    "\n",
    "    for pred_ in pred:\n",
    "        each_valid[f\"{pred_['arch']};{pred_['perm']};{pred_['filename']}\"] = {\n",
    "            \"pred\": pred_[\"pred\"],\n",
    "            \"target\": pred_[\"target\"],\n",
    "        }"
   ]
  },
  {
   "cell_type": "code",
   "execution_count": 47,
   "metadata": {},
   "outputs": [],
   "source": [
    "ranknet_valid = {}\n",
    "datadir_ = datadir / \"ranknet-valid\"\n",
    "with open(datadir_ / \"ranknet.json\", \"r\") as f:\n",
    "    pred = json.load(f)\n",
    "\n",
    "for pred_ in pred:\n",
    "    ranknet_valid[f\"{pred_['arch']};{pred_['perm']};{pred_['filename']}\"] = {\n",
    "        \"pred\": pred_[\"pred\"],\n",
    "        \"target\": pred_[\"target\"],\n",
    "    }"
   ]
  },
  {
   "cell_type": "code",
   "execution_count": 48,
   "metadata": {},
   "outputs": [],
   "source": [
    "ranknet_random_valid = {}\n",
    "datadir_ = datadir / \"ranknet-random-valid\"\n",
    "with open(datadir_ / \"ranknet-random.json\", \"r\") as f:\n",
    "    pred = json.load(f)\n",
    "\n",
    "for pred_ in pred:\n",
    "    ranknet_random_valid[f\"{pred_['arch']};{pred_['perm']};{pred_['filename']}\"] = {\n",
    "        \"pred\": pred_[\"pred\"],\n",
    "        \"target\": pred_[\"target\"],\n",
    "    }"
   ]
  },
  {
   "cell_type": "code",
   "execution_count": 34,
   "metadata": {},
   "outputs": [
    {
     "data": {
      "text/plain": [
       "(set(), set(), set())"
      ]
     },
     "execution_count": 34,
     "metadata": {},
     "output_type": "execute_result"
    }
   ],
   "source": [
    "set(each_valid.keys()) - set(ranknet_valid.keys()), set(\n",
    "    ranknet_random_valid.keys()\n",
    ") - set(ranknet_valid.keys()), set(ranknet_random_valid.keys()) - set(each_valid.keys())"
   ]
  },
  {
   "cell_type": "code",
   "execution_count": 52,
   "metadata": {},
   "outputs": [],
   "source": [
    "IDS = list(each_valid.keys())"
   ]
  },
  {
   "cell_type": "code",
   "execution_count": 65,
   "metadata": {},
   "outputs": [],
   "source": [
    "records = []\n",
    "for ID in IDS:\n",
    "    arch, perm, filename = ID.split(\";\")\n",
    "    pred = np.vstack(\n",
    "        [\n",
    "            each_valid[ID][\"pred\"],\n",
    "            ranknet_valid[ID][\"pred\"],\n",
    "            ranknet_random_valid[ID][\"pred\"],\n",
    "        ]\n",
    "    )\n",
    "    pred = (pred - pred.min(axis=1, keepdims=True)) / (\n",
    "        pred.max(axis=1, keepdims=True) - pred.min(axis=1, keepdims=True)\n",
    "    )\n",
    "    target = each_valid[ID][\"target\"]\n",
    "\n",
    "    pred_mean = pred.mean(axis=0)\n",
    "    pred_median = np.median(pred, axis=0)\n",
    "\n",
    "    records.append(\n",
    "        {\n",
    "            \"ID\": ID,\n",
    "            \"arch\": arch,\n",
    "            \"perm\": perm,\n",
    "            \"filename\": filename,\n",
    "            \"each\": kendalltau(target, pred[0]).correlation,\n",
    "            \"ranknet\": kendalltau(target, pred[1]).correlation,\n",
    "            \"ranknet-random\": kendalltau(target, pred[2]).correlation,\n",
    "            \"median\": kendalltau(target, pred_median).correlation,\n",
    "            \"mean\": kendalltau(target, pred_mean).correlation,\n",
    "        }\n",
    "    )\n",
    "dfscore = pd.DataFrame(records)"
   ]
  },
  {
   "cell_type": "code",
   "execution_count": 68,
   "metadata": {},
   "outputs": [
    {
     "data": {
      "text/html": [
       "<div>\n",
       "<style scoped>\n",
       "    .dataframe tbody tr th:only-of-type {\n",
       "        vertical-align: middle;\n",
       "    }\n",
       "\n",
       "    .dataframe tbody tr th {\n",
       "        vertical-align: top;\n",
       "    }\n",
       "\n",
       "    .dataframe thead th {\n",
       "        text-align: right;\n",
       "    }\n",
       "</style>\n",
       "<table border=\"1\" class=\"dataframe\">\n",
       "  <thead>\n",
       "    <tr style=\"text-align: right;\">\n",
       "      <th></th>\n",
       "      <th>ID</th>\n",
       "      <th>arch</th>\n",
       "      <th>perm</th>\n",
       "      <th>filename</th>\n",
       "      <th>each</th>\n",
       "      <th>ranknet</th>\n",
       "      <th>ranknet-random</th>\n",
       "      <th>median</th>\n",
       "      <th>mean</th>\n",
       "    </tr>\n",
       "  </thead>\n",
       "  <tbody>\n",
       "    <tr>\n",
       "      <th>0</th>\n",
       "      <td>nlp;default;albert_en_xlarge_batch_size_16_test</td>\n",
       "      <td>nlp</td>\n",
       "      <td>default</td>\n",
       "      <td>albert_en_xlarge_batch_size_16_test</td>\n",
       "      <td>0.485212</td>\n",
       "      <td>0.431057</td>\n",
       "      <td>0.445358</td>\n",
       "      <td>0.479636</td>\n",
       "      <td>0.461653</td>\n",
       "    </tr>\n",
       "  </tbody>\n",
       "</table>\n",
       "</div>"
      ],
      "text/plain": [
       "                                                ID arch     perm  \\\n",
       "0  nlp;default;albert_en_xlarge_batch_size_16_test  nlp  default   \n",
       "\n",
       "                              filename      each   ranknet  ranknet-random  \\\n",
       "0  albert_en_xlarge_batch_size_16_test  0.485212  0.431057        0.445358   \n",
       "\n",
       "     median      mean  \n",
       "0  0.479636  0.461653  "
      ]
     },
     "execution_count": 68,
     "metadata": {},
     "output_type": "execute_result"
    }
   ],
   "source": [
    "dfscore.head(1)"
   ]
  },
  {
   "cell_type": "code",
   "execution_count": 76,
   "metadata": {},
   "outputs": [
    {
     "data": {
      "text/html": [
       "<div>\n",
       "<style scoped>\n",
       "    .dataframe tbody tr th:only-of-type {\n",
       "        vertical-align: middle;\n",
       "    }\n",
       "\n",
       "    .dataframe tbody tr th {\n",
       "        vertical-align: top;\n",
       "    }\n",
       "\n",
       "    .dataframe thead th {\n",
       "        text-align: right;\n",
       "    }\n",
       "</style>\n",
       "<table border=\"1\" class=\"dataframe\">\n",
       "  <thead>\n",
       "    <tr style=\"text-align: right;\">\n",
       "      <th></th>\n",
       "      <th></th>\n",
       "      <th>each</th>\n",
       "      <th>ranknet</th>\n",
       "      <th>ranknet-random</th>\n",
       "      <th>median</th>\n",
       "      <th>mean</th>\n",
       "    </tr>\n",
       "    <tr>\n",
       "      <th>arch</th>\n",
       "      <th>perm</th>\n",
       "      <th></th>\n",
       "      <th></th>\n",
       "      <th></th>\n",
       "      <th></th>\n",
       "      <th></th>\n",
       "    </tr>\n",
       "  </thead>\n",
       "  <tbody>\n",
       "    <tr>\n",
       "      <th rowspan=\"2\" valign=\"top\">nlp</th>\n",
       "      <th>default</th>\n",
       "      <td>0.472790</td>\n",
       "      <td>0.452575</td>\n",
       "      <td>0.475452</td>\n",
       "      <td>0.475771</td>\n",
       "      <td>0.470139</td>\n",
       "    </tr>\n",
       "    <tr>\n",
       "      <th>random</th>\n",
       "      <td>0.803031</td>\n",
       "      <td>0.800421</td>\n",
       "      <td>0.825084</td>\n",
       "      <td>0.815617</td>\n",
       "      <td>0.813274</td>\n",
       "    </tr>\n",
       "    <tr>\n",
       "      <th rowspan=\"2\" valign=\"top\">xla</th>\n",
       "      <th>default</th>\n",
       "      <td>0.301647</td>\n",
       "      <td>0.195816</td>\n",
       "      <td>0.287921</td>\n",
       "      <td>0.280438</td>\n",
       "      <td>0.290565</td>\n",
       "    </tr>\n",
       "    <tr>\n",
       "      <th>random</th>\n",
       "      <td>0.605984</td>\n",
       "      <td>0.538181</td>\n",
       "      <td>0.575021</td>\n",
       "      <td>0.585852</td>\n",
       "      <td>0.574332</td>\n",
       "    </tr>\n",
       "  </tbody>\n",
       "</table>\n",
       "</div>"
      ],
      "text/plain": [
       "                  each   ranknet  ranknet-random    median      mean\n",
       "arch perm                                                           \n",
       "nlp  default  0.472790  0.452575        0.475452  0.475771  0.470139\n",
       "     random   0.803031  0.800421        0.825084  0.815617  0.813274\n",
       "xla  default  0.301647  0.195816        0.287921  0.280438  0.290565\n",
       "     random   0.605984  0.538181        0.575021  0.585852  0.574332"
      ]
     },
     "execution_count": 76,
     "metadata": {},
     "output_type": "execute_result"
    }
   ],
   "source": [
    "dfsmr = dfscore.groupby([\"arch\", \"perm\"])[\n",
    "    [\"each\", \"ranknet\", \"ranknet-random\", \"median\", \"mean\"]\n",
    "].mean()\n",
    "dfsmr"
   ]
  },
  {
   "cell_type": "code",
   "execution_count": 79,
   "metadata": {},
   "outputs": [
    {
     "data": {
      "text/plain": [
       "each              0.636690\n",
       "ranknet           0.597399\n",
       "ranknet-random    0.632695\n",
       "median            0.631535\n",
       "mean              0.629662\n",
       "dtype: float64"
      ]
     },
     "execution_count": 79,
     "metadata": {},
     "output_type": "execute_result"
    }
   ],
   "source": [
    "(dfsmr.sum() + 1) / 5"
   ]
  },
  {
   "cell_type": "code",
   "execution_count": 81,
   "metadata": {},
   "outputs": [],
   "source": [
    "each = []\n",
    "datadir_ = datadir / \"each-valid\"\n",
    "for name in [\"nlp-default\", \"nlp-random\", \"xla-default\", \"xla-random\"]:\n",
    "    with open(datadir_ / f\"{name}.json\", \"r\") as f:\n",
    "        pred = json.load(f)\n",
    "\n",
    "    each += pred"
   ]
  },
  {
   "cell_type": "code",
   "execution_count": null,
   "metadata": {},
   "outputs": [],
   "source": []
  },
  {
   "cell_type": "code",
   "execution_count": null,
   "metadata": {},
   "outputs": [],
   "source": []
  },
  {
   "cell_type": "code",
   "execution_count": 117,
   "metadata": {},
   "outputs": [],
   "source": [
    "each_infer = {}\n",
    "datadir_ = datadir / \"each-inference\"\n",
    "for name in [\"nlp-default\", \"nlp-random\", \"xla-default\", \"xla-random\"]:\n",
    "    with open(datadir_ / f\"{name}.json\", \"r\") as f:\n",
    "        pred = json.load(f)\n",
    "\n",
    "    for pred_ in pred:\n",
    "        each_infer[\n",
    "            f\"layout:{pred_['arch']}:{pred_['perm']}:{pred_['filename']}\"\n",
    "        ] = pred_[\"pred\"]"
   ]
  },
  {
   "cell_type": "code",
   "execution_count": 118,
   "metadata": {},
   "outputs": [],
   "source": [
    "ranknet_infer = {}\n",
    "datadir_ = datadir / \"ranknet-inference\"\n",
    "with open(datadir_ / \"ranknet.json\", \"r\") as f:\n",
    "    pred = json.load(f)\n",
    "\n",
    "for pred_ in pred:\n",
    "    ranknet_infer[\n",
    "        f\"layout:{pred_['arch']}:{pred_['perm']}:{pred_['filename']}\"\n",
    "    ] = pred_[\"pred\"]"
   ]
  },
  {
   "cell_type": "code",
   "execution_count": 119,
   "metadata": {},
   "outputs": [],
   "source": [
    "ranknet_random_infer = {}\n",
    "datadir_ = datadir / \"ranknet-random-inference\"\n",
    "with open(datadir_ / \"ranknet-random.json\", \"r\") as f:\n",
    "    pred = json.load(f)\n",
    "\n",
    "for pred_ in pred:\n",
    "    ranknet_random_infer[\n",
    "        f\"layout:{pred_['arch']}:{pred_['perm']}:{pred_['filename']}\"\n",
    "    ] = pred_[\"pred\"]"
   ]
  },
  {
   "cell_type": "code",
   "execution_count": 120,
   "metadata": {},
   "outputs": [
    {
     "data": {
      "text/plain": [
       "(set(), set(), set())"
      ]
     },
     "execution_count": 120,
     "metadata": {},
     "output_type": "execute_result"
    }
   ],
   "source": [
    "set(ranknet_random_infer.keys()) - set(ranknet_infer.keys()), set(\n",
    "    each_infer.keys()\n",
    ") - set(ranknet_random_infer.keys()), set(each_infer.keys()) - set(ranknet_infer.keys())"
   ]
  },
  {
   "cell_type": "code",
   "execution_count": 121,
   "metadata": {},
   "outputs": [],
   "source": [
    "IDS = list(each_infer.keys())"
   ]
  },
  {
   "cell_type": "code",
   "execution_count": 122,
   "metadata": {},
   "outputs": [],
   "source": [
    "records = []\n",
    "for ID in IDS:\n",
    "    pred = np.vstack(\n",
    "        [\n",
    "            each_infer[ID],\n",
    "            ranknet_infer[ID],\n",
    "            ranknet_random_infer[ID],\n",
    "        ]\n",
    "    )\n",
    "    pred = (pred - pred.min(axis=1, keepdims=True)) / (\n",
    "        pred.max(axis=1, keepdims=True) - pred.min(axis=1, keepdims=True)\n",
    "    )\n",
    "\n",
    "    pred_mean = pred.mean(axis=0)\n",
    "    pred_median = np.median(pred, axis=0)\n",
    "\n",
    "    records.append(\n",
    "        {\n",
    "            \"ID\": ID,\n",
    "            \"each\": \";\".join(list(map(str, pred[0].argsort()))),\n",
    "            \"ranknet\": \";\".join(list(map(str, pred[1].argsort()))),\n",
    "            \"ranknet-random\": \";\".join(list(map(str, pred[2].argsort()))),\n",
    "            \"median\": \";\".join(list(map(str, pred_median.argsort()))),\n",
    "            \"mean\": \";\".join(list(map(str, pred_mean.argsort()))),\n",
    "        }\n",
    "    )\n",
    "dfscore = pd.DataFrame(records)"
   ]
  },
  {
   "cell_type": "code",
   "execution_count": 123,
   "metadata": {},
   "outputs": [],
   "source": [
    "for c in dfscore.drop(columns=[\"ID\"]).columns:\n",
    "    dfscore[[\"ID\", c]].rename(columns={c: \"TopConfigs\"}).to_csv(\n",
    "        outdir / f\"{c}-submission.csv\", index=False\n",
    "    )"
   ]
  },
  {
   "cell_type": "code",
   "execution_count": null,
   "metadata": {},
   "outputs": [],
   "source": []
  },
  {
   "cell_type": "code",
   "execution_count": null,
   "metadata": {},
   "outputs": [],
   "source": []
  }
 ],
 "metadata": {
  "kernelspec": {
   "display_name": "Python 3",
   "language": "python",
   "name": "python3"
  },
  "language_info": {
   "codemirror_mode": {
    "name": "ipython",
    "version": 3
   },
   "file_extension": ".py",
   "mimetype": "text/x-python",
   "name": "python",
   "nbconvert_exporter": "python",
   "pygments_lexer": "ipython3",
   "version": "3.11.5"
  }
 },
 "nbformat": 4,
 "nbformat_minor": 2
}
