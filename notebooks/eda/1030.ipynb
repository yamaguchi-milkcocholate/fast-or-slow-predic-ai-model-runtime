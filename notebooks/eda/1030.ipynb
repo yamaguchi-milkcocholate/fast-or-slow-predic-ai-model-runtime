{
 "cells": [
  {
   "cell_type": "code",
   "execution_count": 1,
   "metadata": {},
   "outputs": [],
   "source": [
    "import numpy as np\n",
    "import pandas as pd\n",
    "import warnings\n",
    "import itertools\n",
    "import random\n",
    "import gc\n",
    "import os\n",
    "from copy import deepcopy\n",
    "from tqdm.notebook import tqdm\n",
    "from pathlib import Path\n",
    "from dataclasses import dataclass, field\n",
    "from matplotlib import pyplot as plt\n",
    "import seaborn as sns\n",
    "import wandb\n",
    "from dataclasses import asdict\n",
    "\n",
    "sns.set()\n",
    "\n",
    "warnings.simplefilter(\"ignore\")"
   ]
  },
  {
   "cell_type": "code",
   "execution_count": 7,
   "metadata": {},
   "outputs": [],
   "source": [
    "rootdir = Path().resolve().parent\n",
    "inputdir = rootdir / \"data\" / \"predict-ai-model-runtime\"\n",
    "node_feat_dir = rootdir / \"data\" / \"google-slow-vs-fast-layout-7-85\"\n",
    "trans_node_feat_dir = rootdir / \"data\" / \"google-slow-vs-fastlayout6-92-dataset\"\n",
    "trans_node_config_feat_dir = rootdir / \"data\" / \"google-slow-vs-fastlayout7-81-dataset\"\n",
    "workdir = Path().resolve() / \"out\"\n",
    "workdir.mkdir(exist_ok=True, parents=True)"
   ]
  },
  {
   "cell_type": "code",
   "execution_count": 8,
   "metadata": {},
   "outputs": [],
   "source": [
    "dataset_dict = {}\n",
    "ignores = []\n",
    "for ds in [\"train\", \"valid\", \"test\"]:\n",
    "    records = []\n",
    "    for arch, perm in itertools.product([\"nlp\", \"xla\"], [\"default\", \"random\"]):\n",
    "        datadir = inputdir / f\"npz_all/npz/layout/{arch}/{perm}/{ds}\"\n",
    "        for filepath in sorted(datadir.glob(\"*.npz\")):\n",
    "            filename = str(filepath).split(\"/\")[-1].replace(\".npz\", \"\")\n",
    "\n",
    "            if (ds != \"test\") and ((\"mlperf\" in filename) or (\"openai\" in filename)):\n",
    "                ignores.append(filepath)\n",
    "                continue\n",
    "            records.append(\n",
    "                {\n",
    "                    \"arch\": arch,\n",
    "                    \"perm\": perm,\n",
    "                    \"filename\": filename,\n",
    "                    \"filepath\": filepath,\n",
    "                    \"node_feat_filepath\": str(\n",
    "                        node_feat_dir / arch / perm / ds / f\"{filename}.npz\"\n",
    "                    ),\n",
    "                    \"trans_node_feat_filepath\": str(\n",
    "                        trans_node_feat_dir\n",
    "                        / \"layout\"\n",
    "                        / arch\n",
    "                        / perm\n",
    "                        / ds\n",
    "                        / f\"{filename}.npz\"\n",
    "                    ),\n",
    "                    \"trans_node_config_filepath\": str(\n",
    "                        trans_node_config_feat_dir\n",
    "                        / arch\n",
    "                        / perm\n",
    "                        / ds\n",
    "                        / f\"{filename}.npz\"\n",
    "                    ),\n",
    "                }\n",
    "            )\n",
    "    dataset_dict[ds] = pd.DataFrame(records)"
   ]
  },
  {
   "cell_type": "code",
   "execution_count": 11,
   "metadata": {},
   "outputs": [
    {
     "data": {
      "text/html": [
       "<div>\n",
       "<style scoped>\n",
       "    .dataframe tbody tr th:only-of-type {\n",
       "        vertical-align: middle;\n",
       "    }\n",
       "\n",
       "    .dataframe tbody tr th {\n",
       "        vertical-align: top;\n",
       "    }\n",
       "\n",
       "    .dataframe thead th {\n",
       "        text-align: right;\n",
       "    }\n",
       "</style>\n",
       "<table border=\"1\" class=\"dataframe\">\n",
       "  <thead>\n",
       "    <tr style=\"text-align: right;\">\n",
       "      <th></th>\n",
       "      <th>arch</th>\n",
       "      <th>perm</th>\n",
       "      <th>filename</th>\n",
       "      <th>filepath</th>\n",
       "      <th>node_feat_filepath</th>\n",
       "      <th>trans_node_feat_filepath</th>\n",
       "      <th>trans_node_config_filepath</th>\n",
       "    </tr>\n",
       "  </thead>\n",
       "  <tbody>\n",
       "    <tr>\n",
       "      <th>420</th>\n",
       "      <td>xla</td>\n",
       "      <td>default</td>\n",
       "      <td>mask_rcnn_batch_4_bf16_img1408</td>\n",
       "      <td>/home/yamaguchi/kaggle/data/predict-ai-model-r...</td>\n",
       "      <td>/home/yamaguchi/kaggle/data/google-slow-vs-fas...</td>\n",
       "      <td>/home/yamaguchi/kaggle/data/google-slow-vs-fas...</td>\n",
       "      <td>/home/yamaguchi/kaggle/data/google-slow-vs-fas...</td>\n",
       "    </tr>\n",
       "    <tr>\n",
       "      <th>470</th>\n",
       "      <td>xla</td>\n",
       "      <td>random</td>\n",
       "      <td>mask_rcnn_batch_4_bf16_img1408</td>\n",
       "      <td>/home/yamaguchi/kaggle/data/predict-ai-model-r...</td>\n",
       "      <td>/home/yamaguchi/kaggle/data/google-slow-vs-fas...</td>\n",
       "      <td>/home/yamaguchi/kaggle/data/google-slow-vs-fas...</td>\n",
       "      <td>/home/yamaguchi/kaggle/data/google-slow-vs-fas...</td>\n",
       "    </tr>\n",
       "  </tbody>\n",
       "</table>\n",
       "</div>"
      ],
      "text/plain": [
       "    arch     perm                        filename  \\\n",
       "420  xla  default  mask_rcnn_batch_4_bf16_img1408   \n",
       "470  xla   random  mask_rcnn_batch_4_bf16_img1408   \n",
       "\n",
       "                                              filepath  \\\n",
       "420  /home/yamaguchi/kaggle/data/predict-ai-model-r...   \n",
       "470  /home/yamaguchi/kaggle/data/predict-ai-model-r...   \n",
       "\n",
       "                                    node_feat_filepath  \\\n",
       "420  /home/yamaguchi/kaggle/data/google-slow-vs-fas...   \n",
       "470  /home/yamaguchi/kaggle/data/google-slow-vs-fas...   \n",
       "\n",
       "                              trans_node_feat_filepath  \\\n",
       "420  /home/yamaguchi/kaggle/data/google-slow-vs-fas...   \n",
       "470  /home/yamaguchi/kaggle/data/google-slow-vs-fas...   \n",
       "\n",
       "                            trans_node_config_filepath  \n",
       "420  /home/yamaguchi/kaggle/data/google-slow-vs-fas...  \n",
       "470  /home/yamaguchi/kaggle/data/google-slow-vs-fas...  "
      ]
     },
     "execution_count": 11,
     "metadata": {},
     "output_type": "execute_result"
    }
   ],
   "source": [
    "dftrain = dataset_dict[\"train\"]\n",
    "dft = dftrain.query(f\"filename == 'mask_rcnn_batch_4_bf16_img1408'\")\n",
    "dft"
   ]
  },
  {
   "cell_type": "code",
   "execution_count": 16,
   "metadata": {},
   "outputs": [],
   "source": [
    "rts = []\n",
    "for _, row in dft.iterrows():\n",
    "    file = np.load(row[\"filepath\"])\n",
    "    rt = file[\"config_runtime\"]\n",
    "    rts.append(rt / rt.min())"
   ]
  },
  {
   "cell_type": "code",
   "execution_count": 17,
   "metadata": {},
   "outputs": [
    {
     "data": {
      "text/plain": [
       "<Axes: >"
      ]
     },
     "execution_count": 17,
     "metadata": {},
     "output_type": "execute_result"
    },
    {
     "data": {
      "image/png": "[encoded data removed]",
      "text/plain": [
       "<Figure size 640x480 with 1 Axes>"
      ]
     },
     "metadata": {},
     "output_type": "display_data"
    }
   ],
   "source": [
    "sns.violinplot(rts)"
   ]
  }
 ],
 "metadata": {
  "kernelspec": {
   "display_name": "Python 3",
   "language": "python",
   "name": "python3"
  },
  "language_info": {
   "codemirror_mode": {
    "name": "ipython",
    "version": 3
   },
   "file_extension": ".py",
   "mimetype": "text/x-python",
   "name": "python",
   "nbconvert_exporter": "python",
   "pygments_lexer": "ipython3",
   "version": "3.11.5"
  }
 },
 "nbformat": 4,
 "nbformat_minor": 2
}
